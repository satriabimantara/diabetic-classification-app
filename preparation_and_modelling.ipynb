{
 "cells": [
  {
   "cell_type": "markdown",
   "id": "8a6afc85",
   "metadata": {},
   "source": [
    "# Install and Import Required Libraries"
   ]
  },
  {
   "cell_type": "markdown",
   "id": "09a0c42f",
   "metadata": {},
   "source": [
    "## Install Libraries"
   ]
  },
  {
   "cell_type": "code",
   "execution_count": null,
   "id": "ee9be81d",
   "metadata": {},
   "outputs": [],
   "source": []
  },
  {
   "cell_type": "markdown",
   "id": "f2dbec44",
   "metadata": {},
   "source": [
    "## Import Required Libraries"
   ]
  },
  {
   "cell_type": "code",
   "execution_count": 1,
   "id": "9c64d9e1",
   "metadata": {},
   "outputs": [],
   "source": [
    "# data processing \n",
    "import pandas as pd\n",
    "import numpy as np\n",
    "\n",
    "\n",
    "# machine learning process\n",
    "from sklearn.model_selection import train_test_split, cross_val_score, GridSearchCV, KFold\n",
    "from sklearn.preprocessing import LabelEncoder, MinMaxScaler, StandardScaler\n",
    "from sklearn.impute import SimpleImputer\n",
    "from sklearn.pipeline import Pipeline\n",
    "from sklearn.naive_bayes import GaussianNB\n",
    "from sklearn.tree import DecisionTreeClassifier\n",
    "from sklearn.neighbors import KNeighborsClassifier\n",
    "from sklearn.ensemble import RandomForestClassifier\n",
    "from sklearn.svm import SVC\n",
    "from sklearn.linear_model import LogisticRegression\n",
    "from sklearn import metrics\n",
    "from sklearn.decomposition import PCA\n",
    "from sklearn.feature_selection import SelectKBest, f_classif\n",
    "# Data visualization\n",
    "import matplotlib as mpl\n",
    "import matplotlib.pyplot as plt\n",
    "import seaborn as sns\n",
    "\n",
    "from scipy.stats.mstats import winsorize\n",
    "\n",
    "import pickle\n",
    "\n",
    "%matplotlib inline"
   ]
  },
  {
   "cell_type": "markdown",
   "id": "c07a4d77",
   "metadata": {},
   "source": [
    "# Defining Functions"
   ]
  },
  {
   "cell_type": "markdown",
   "id": "299e55c9",
   "metadata": {},
   "source": [
    "## Functions to return attributes and target"
   ]
  },
  {
   "cell_type": "code",
   "execution_count": 2,
   "id": "1345cac0",
   "metadata": {},
   "outputs": [],
   "source": [
    "def split_attributes_target(data_df,target_name):\n",
    "    X = data_df.drop(target_name,axis=1)\n",
    "    y = data_df[target_name]\n",
    "    return X,y"
   ]
  },
  {
   "cell_type": "markdown",
   "id": "56bb4b16",
   "metadata": {},
   "source": [
    "# Data Description"
   ]
  },
  {
   "cell_type": "markdown",
   "id": "e3663a91",
   "metadata": {},
   "source": [
    "## Dataset yang digunakan\n",
    "***\n",
    "Data yang digunakan adalah **Pima Indian Diabetes Database**"
   ]
  },
  {
   "cell_type": "markdown",
   "id": "285b3a90",
   "metadata": {},
   "source": [
    "# Exploratory Data Analysis"
   ]
  },
  {
   "cell_type": "markdown",
   "id": "7c84c403",
   "metadata": {},
   "source": [
    "## Data Loading"
   ]
  },
  {
   "cell_type": "code",
   "execution_count": 3,
   "id": "108a7c35",
   "metadata": {},
   "outputs": [],
   "source": [
    "diabetic_df = pd.read_csv('dataset/diabetes.csv')"
   ]
  },
  {
   "cell_type": "markdown",
   "id": "ed1b4994",
   "metadata": {},
   "source": [
    "## Data Dimension"
   ]
  },
  {
   "cell_type": "code",
   "execution_count": 4,
   "id": "46cc1904",
   "metadata": {},
   "outputs": [
    {
     "data": {
      "text/plain": [
       "(768, 9)"
      ]
     },
     "execution_count": 4,
     "metadata": {},
     "output_type": "execute_result"
    }
   ],
   "source": [
    "diabetic_df.shape"
   ]
  },
  {
   "cell_type": "markdown",
   "id": "ad5ee7b1",
   "metadata": {},
   "source": [
    "## Show top 5 data"
   ]
  },
  {
   "cell_type": "code",
   "execution_count": 5,
   "id": "b393c653",
   "metadata": {},
   "outputs": [
    {
     "data": {
      "text/html": [
       "<div>\n",
       "<style scoped>\n",
       "    .dataframe tbody tr th:only-of-type {\n",
       "        vertical-align: middle;\n",
       "    }\n",
       "\n",
       "    .dataframe tbody tr th {\n",
       "        vertical-align: top;\n",
       "    }\n",
       "\n",
       "    .dataframe thead th {\n",
       "        text-align: right;\n",
       "    }\n",
       "</style>\n",
       "<table border=\"1\" class=\"dataframe\">\n",
       "  <thead>\n",
       "    <tr style=\"text-align: right;\">\n",
       "      <th></th>\n",
       "      <th>Pregnancies</th>\n",
       "      <th>Glucose</th>\n",
       "      <th>BloodPressure</th>\n",
       "      <th>SkinThickness</th>\n",
       "      <th>Insulin</th>\n",
       "      <th>BMI</th>\n",
       "      <th>DiabetesPedigreeFunction</th>\n",
       "      <th>Age</th>\n",
       "      <th>Outcome</th>\n",
       "    </tr>\n",
       "  </thead>\n",
       "  <tbody>\n",
       "    <tr>\n",
       "      <th>0</th>\n",
       "      <td>6</td>\n",
       "      <td>148</td>\n",
       "      <td>72</td>\n",
       "      <td>35</td>\n",
       "      <td>0</td>\n",
       "      <td>33.6</td>\n",
       "      <td>0.627</td>\n",
       "      <td>50</td>\n",
       "      <td>1</td>\n",
       "    </tr>\n",
       "    <tr>\n",
       "      <th>1</th>\n",
       "      <td>1</td>\n",
       "      <td>85</td>\n",
       "      <td>66</td>\n",
       "      <td>29</td>\n",
       "      <td>0</td>\n",
       "      <td>26.6</td>\n",
       "      <td>0.351</td>\n",
       "      <td>31</td>\n",
       "      <td>0</td>\n",
       "    </tr>\n",
       "    <tr>\n",
       "      <th>2</th>\n",
       "      <td>8</td>\n",
       "      <td>183</td>\n",
       "      <td>64</td>\n",
       "      <td>0</td>\n",
       "      <td>0</td>\n",
       "      <td>23.3</td>\n",
       "      <td>0.672</td>\n",
       "      <td>32</td>\n",
       "      <td>1</td>\n",
       "    </tr>\n",
       "    <tr>\n",
       "      <th>3</th>\n",
       "      <td>1</td>\n",
       "      <td>89</td>\n",
       "      <td>66</td>\n",
       "      <td>23</td>\n",
       "      <td>94</td>\n",
       "      <td>28.1</td>\n",
       "      <td>0.167</td>\n",
       "      <td>21</td>\n",
       "      <td>0</td>\n",
       "    </tr>\n",
       "    <tr>\n",
       "      <th>4</th>\n",
       "      <td>0</td>\n",
       "      <td>137</td>\n",
       "      <td>40</td>\n",
       "      <td>35</td>\n",
       "      <td>168</td>\n",
       "      <td>43.1</td>\n",
       "      <td>2.288</td>\n",
       "      <td>33</td>\n",
       "      <td>1</td>\n",
       "    </tr>\n",
       "  </tbody>\n",
       "</table>\n",
       "</div>"
      ],
      "text/plain": [
       "   Pregnancies  Glucose  BloodPressure  SkinThickness  Insulin   BMI  \\\n",
       "0            6      148             72             35        0  33.6   \n",
       "1            1       85             66             29        0  26.6   \n",
       "2            8      183             64              0        0  23.3   \n",
       "3            1       89             66             23       94  28.1   \n",
       "4            0      137             40             35      168  43.1   \n",
       "\n",
       "   DiabetesPedigreeFunction  Age  Outcome  \n",
       "0                     0.627   50        1  \n",
       "1                     0.351   31        0  \n",
       "2                     0.672   32        1  \n",
       "3                     0.167   21        0  \n",
       "4                     2.288   33        1  "
      ]
     },
     "execution_count": 5,
     "metadata": {},
     "output_type": "execute_result"
    }
   ],
   "source": [
    "diabetic_df.head()"
   ]
  },
  {
   "cell_type": "markdown",
   "id": "068d34ce",
   "metadata": {},
   "source": [
    "## Show data information"
   ]
  },
  {
   "cell_type": "code",
   "execution_count": 6,
   "id": "62cf7b3a",
   "metadata": {},
   "outputs": [
    {
     "name": "stdout",
     "output_type": "stream",
     "text": [
      "<class 'pandas.core.frame.DataFrame'>\n",
      "RangeIndex: 768 entries, 0 to 767\n",
      "Data columns (total 9 columns):\n",
      " #   Column                    Non-Null Count  Dtype  \n",
      "---  ------                    --------------  -----  \n",
      " 0   Pregnancies               768 non-null    int64  \n",
      " 1   Glucose                   768 non-null    int64  \n",
      " 2   BloodPressure             768 non-null    int64  \n",
      " 3   SkinThickness             768 non-null    int64  \n",
      " 4   Insulin                   768 non-null    int64  \n",
      " 5   BMI                       768 non-null    float64\n",
      " 6   DiabetesPedigreeFunction  768 non-null    float64\n",
      " 7   Age                       768 non-null    int64  \n",
      " 8   Outcome                   768 non-null    int64  \n",
      "dtypes: float64(2), int64(7)\n",
      "memory usage: 54.1 KB\n"
     ]
    }
   ],
   "source": [
    "diabetic_df.info()"
   ]
  },
  {
   "cell_type": "code",
   "execution_count": 7,
   "id": "6a84362d",
   "metadata": {},
   "outputs": [
    {
     "data": {
      "text/plain": [
       "Pregnancies                 0\n",
       "Glucose                     0\n",
       "BloodPressure               0\n",
       "SkinThickness               0\n",
       "Insulin                     0\n",
       "BMI                         0\n",
       "DiabetesPedigreeFunction    0\n",
       "Age                         0\n",
       "Outcome                     0\n",
       "dtype: int64"
      ]
     },
     "execution_count": 7,
     "metadata": {},
     "output_type": "execute_result"
    }
   ],
   "source": [
    "# check number of missing values\n",
    "diabetic_df.isnull().sum()"
   ]
  },
  {
   "cell_type": "markdown",
   "id": "fc6860af",
   "metadata": {},
   "source": [
    "**ANALISIS** <br>\n",
    "1. Dari dataset dikatakan tidak ada *missing values*. Cukup aneh. Hal ini akan diperiksa lebih lanjut apakah ada *invalid values* pada dataset\n",
    "2. Semua atribut bertipe numerik\n",
    "3. Kelas target bertipe kategorikal (ordinal)"
   ]
  },
  {
   "cell_type": "markdown",
   "id": "f7714be1",
   "metadata": {},
   "source": [
    "## Check duplicated data"
   ]
  },
  {
   "cell_type": "code",
   "execution_count": 8,
   "id": "00d9fd50",
   "metadata": {},
   "outputs": [
    {
     "data": {
      "text/html": [
       "<div>\n",
       "<style scoped>\n",
       "    .dataframe tbody tr th:only-of-type {\n",
       "        vertical-align: middle;\n",
       "    }\n",
       "\n",
       "    .dataframe tbody tr th {\n",
       "        vertical-align: top;\n",
       "    }\n",
       "\n",
       "    .dataframe thead th {\n",
       "        text-align: right;\n",
       "    }\n",
       "</style>\n",
       "<table border=\"1\" class=\"dataframe\">\n",
       "  <thead>\n",
       "    <tr style=\"text-align: right;\">\n",
       "      <th></th>\n",
       "      <th>Pregnancies</th>\n",
       "      <th>Glucose</th>\n",
       "      <th>BloodPressure</th>\n",
       "      <th>SkinThickness</th>\n",
       "      <th>Insulin</th>\n",
       "      <th>BMI</th>\n",
       "      <th>DiabetesPedigreeFunction</th>\n",
       "      <th>Age</th>\n",
       "      <th>Outcome</th>\n",
       "    </tr>\n",
       "  </thead>\n",
       "  <tbody>\n",
       "  </tbody>\n",
       "</table>\n",
       "</div>"
      ],
      "text/plain": [
       "Empty DataFrame\n",
       "Columns: [Pregnancies, Glucose, BloodPressure, SkinThickness, Insulin, BMI, DiabetesPedigreeFunction, Age, Outcome]\n",
       "Index: []"
      ]
     },
     "execution_count": 8,
     "metadata": {},
     "output_type": "execute_result"
    }
   ],
   "source": [
    "diabetic_df[diabetic_df.duplicated()]"
   ]
  },
  {
   "cell_type": "markdown",
   "id": "de149ca6",
   "metadata": {},
   "source": [
    "- Tidak ada data duplikat"
   ]
  },
  {
   "cell_type": "markdown",
   "id": "a97773d6",
   "metadata": {},
   "source": [
    "## Features Importance using ANOVA F-Score\n",
    "***\n",
    "Karena atribut bertipe numerikal dan target bertipe categorical, maka ANOVA F-score digunakan untuk menghitung kepentingan atribut pada kelas target"
   ]
  },
  {
   "cell_type": "markdown",
   "id": "b35f4243",
   "metadata": {},
   "source": [
    "### Splitting Attributes and Target"
   ]
  },
  {
   "cell_type": "code",
   "execution_count": 9,
   "id": "517c816d",
   "metadata": {},
   "outputs": [],
   "source": [
    "attributes,target = split_attributes_target(diabetic_df,'Outcome')"
   ]
  },
  {
   "cell_type": "code",
   "execution_count": 10,
   "id": "338c3014",
   "metadata": {},
   "outputs": [],
   "source": [
    "# instansiasi objek\n",
    "anova_fs = SelectKBest(score_func=f_classif, k='all')\n",
    "\n",
    "# anova fit into data\n",
    "anova_fs = anova_fs.fit(attributes,target)\n",
    "\n",
    "# anova attributes scores\n",
    "anova_series = pd.Series(data=anova_fs.scores_, index=anova_fs.feature_names_in_)"
   ]
  },
  {
   "cell_type": "code",
   "execution_count": 11,
   "id": "8cc67e28",
   "metadata": {},
   "outputs": [
    {
     "data": {
      "image/png": "[encoded data removed]",
      "text/plain": [
       "<Figure size 864x720 with 1 Axes>"
      ]
     },
     "metadata": {
      "needs_background": "light"
     },
     "output_type": "display_data"
    }
   ],
   "source": [
    "plt.figure(figsize=(12,10))\n",
    "anova_series.sort_values().plot(kind='barh')\n",
    "plt.ylabel('Daftar Atribut')\n",
    "plt.xlabel('F-Scores Atribut')\n",
    "plt.title('Nilai F-Score Setiap Atribut terhadap label')\n",
    "plt.show()"
   ]
  },
  {
   "cell_type": "markdown",
   "id": "a0703a28",
   "metadata": {},
   "source": [
    "**ANALISIS** <br>\n",
    "1. Atribut **Glucose, BMI, dan Age** menjadi tiga atribut yang paling penting untuk menentukan label kelas **Outcome**"
   ]
  },
  {
   "cell_type": "markdown",
   "id": "783e9a87",
   "metadata": {},
   "source": [
    "## Statistics Descriptive within data"
   ]
  },
  {
   "cell_type": "code",
   "execution_count": 12,
   "id": "49796ee9",
   "metadata": {},
   "outputs": [
    {
     "data": {
      "text/html": [
       "<div>\n",
       "<style scoped>\n",
       "    .dataframe tbody tr th:only-of-type {\n",
       "        vertical-align: middle;\n",
       "    }\n",
       "\n",
       "    .dataframe tbody tr th {\n",
       "        vertical-align: top;\n",
       "    }\n",
       "\n",
       "    .dataframe thead th {\n",
       "        text-align: right;\n",
       "    }\n",
       "</style>\n",
       "<table border=\"1\" class=\"dataframe\">\n",
       "  <thead>\n",
       "    <tr style=\"text-align: right;\">\n",
       "      <th></th>\n",
       "      <th>Pregnancies</th>\n",
       "      <th>Glucose</th>\n",
       "      <th>BloodPressure</th>\n",
       "      <th>SkinThickness</th>\n",
       "      <th>Insulin</th>\n",
       "      <th>BMI</th>\n",
       "      <th>DiabetesPedigreeFunction</th>\n",
       "      <th>Age</th>\n",
       "      <th>Outcome</th>\n",
       "    </tr>\n",
       "  </thead>\n",
       "  <tbody>\n",
       "    <tr>\n",
       "      <th>count</th>\n",
       "      <td>768.000000</td>\n",
       "      <td>768.000000</td>\n",
       "      <td>768.000000</td>\n",
       "      <td>768.000000</td>\n",
       "      <td>768.000000</td>\n",
       "      <td>768.000000</td>\n",
       "      <td>768.000000</td>\n",
       "      <td>768.000000</td>\n",
       "      <td>768.000000</td>\n",
       "    </tr>\n",
       "    <tr>\n",
       "      <th>mean</th>\n",
       "      <td>3.845052</td>\n",
       "      <td>120.894531</td>\n",
       "      <td>69.105469</td>\n",
       "      <td>20.536458</td>\n",
       "      <td>79.799479</td>\n",
       "      <td>31.992578</td>\n",
       "      <td>0.471876</td>\n",
       "      <td>33.240885</td>\n",
       "      <td>0.348958</td>\n",
       "    </tr>\n",
       "    <tr>\n",
       "      <th>std</th>\n",
       "      <td>3.369578</td>\n",
       "      <td>31.972618</td>\n",
       "      <td>19.355807</td>\n",
       "      <td>15.952218</td>\n",
       "      <td>115.244002</td>\n",
       "      <td>7.884160</td>\n",
       "      <td>0.331329</td>\n",
       "      <td>11.760232</td>\n",
       "      <td>0.476951</td>\n",
       "    </tr>\n",
       "    <tr>\n",
       "      <th>min</th>\n",
       "      <td>0.000000</td>\n",
       "      <td>0.000000</td>\n",
       "      <td>0.000000</td>\n",
       "      <td>0.000000</td>\n",
       "      <td>0.000000</td>\n",
       "      <td>0.000000</td>\n",
       "      <td>0.078000</td>\n",
       "      <td>21.000000</td>\n",
       "      <td>0.000000</td>\n",
       "    </tr>\n",
       "    <tr>\n",
       "      <th>25%</th>\n",
       "      <td>1.000000</td>\n",
       "      <td>99.000000</td>\n",
       "      <td>62.000000</td>\n",
       "      <td>0.000000</td>\n",
       "      <td>0.000000</td>\n",
       "      <td>27.300000</td>\n",
       "      <td>0.243750</td>\n",
       "      <td>24.000000</td>\n",
       "      <td>0.000000</td>\n",
       "    </tr>\n",
       "    <tr>\n",
       "      <th>50%</th>\n",
       "      <td>3.000000</td>\n",
       "      <td>117.000000</td>\n",
       "      <td>72.000000</td>\n",
       "      <td>23.000000</td>\n",
       "      <td>30.500000</td>\n",
       "      <td>32.000000</td>\n",
       "      <td>0.372500</td>\n",
       "      <td>29.000000</td>\n",
       "      <td>0.000000</td>\n",
       "    </tr>\n",
       "    <tr>\n",
       "      <th>75%</th>\n",
       "      <td>6.000000</td>\n",
       "      <td>140.250000</td>\n",
       "      <td>80.000000</td>\n",
       "      <td>32.000000</td>\n",
       "      <td>127.250000</td>\n",
       "      <td>36.600000</td>\n",
       "      <td>0.626250</td>\n",
       "      <td>41.000000</td>\n",
       "      <td>1.000000</td>\n",
       "    </tr>\n",
       "    <tr>\n",
       "      <th>max</th>\n",
       "      <td>17.000000</td>\n",
       "      <td>199.000000</td>\n",
       "      <td>122.000000</td>\n",
       "      <td>99.000000</td>\n",
       "      <td>846.000000</td>\n",
       "      <td>67.100000</td>\n",
       "      <td>2.420000</td>\n",
       "      <td>81.000000</td>\n",
       "      <td>1.000000</td>\n",
       "    </tr>\n",
       "  </tbody>\n",
       "</table>\n",
       "</div>"
      ],
      "text/plain": [
       "       Pregnancies     Glucose  BloodPressure  SkinThickness     Insulin  \\\n",
       "count   768.000000  768.000000     768.000000     768.000000  768.000000   \n",
       "mean      3.845052  120.894531      69.105469      20.536458   79.799479   \n",
       "std       3.369578   31.972618      19.355807      15.952218  115.244002   \n",
       "min       0.000000    0.000000       0.000000       0.000000    0.000000   \n",
       "25%       1.000000   99.000000      62.000000       0.000000    0.000000   \n",
       "50%       3.000000  117.000000      72.000000      23.000000   30.500000   \n",
       "75%       6.000000  140.250000      80.000000      32.000000  127.250000   \n",
       "max      17.000000  199.000000     122.000000      99.000000  846.000000   \n",
       "\n",
       "              BMI  DiabetesPedigreeFunction         Age     Outcome  \n",
       "count  768.000000                768.000000  768.000000  768.000000  \n",
       "mean    31.992578                  0.471876   33.240885    0.348958  \n",
       "std      7.884160                  0.331329   11.760232    0.476951  \n",
       "min      0.000000                  0.078000   21.000000    0.000000  \n",
       "25%     27.300000                  0.243750   24.000000    0.000000  \n",
       "50%     32.000000                  0.372500   29.000000    0.000000  \n",
       "75%     36.600000                  0.626250   41.000000    1.000000  \n",
       "max     67.100000                  2.420000   81.000000    1.000000  "
      ]
     },
     "execution_count": 12,
     "metadata": {},
     "output_type": "execute_result"
    }
   ],
   "source": [
    "diabetic_df.describe()"
   ]
  },
  {
   "cell_type": "markdown",
   "id": "8f294ed9",
   "metadata": {},
   "source": [
    "**ANALISIS** <br>\n",
    "1. Ada beberapa atribut yang mengandung nilai **0**. Nilai ini tidak masuk akal, seperti BloodPressure=0 (apakah pasien sudah meninggal?)\n",
    "2. Nilai **0** pada atribut-atribut tersebut akan dianggap sebagai *invalid values* dan dianggap sebagai **missing values**. Beberapa atribut yang mengandung nilai invalid adalah: <br>\n",
    "- Glucose\n",
    "- BloodPressure\n",
    "- SkinThickness\n",
    "- Insulin\n",
    "- BMI\n",
    "3. Akan dilakukan penanganan *missing values* dengan cara imputasi dengan median"
   ]
  },
  {
   "cell_type": "markdown",
   "id": "10203fc8",
   "metadata": {},
   "source": [
    "## Mencetak semua nilai unik pada setiapa atribut"
   ]
  },
  {
   "cell_type": "code",
   "execution_count": 13,
   "id": "e941cd4b",
   "metadata": {},
   "outputs": [
    {
     "name": "stdout",
     "output_type": "stream",
     "text": [
      "Nilai Unik untuk Atribut  PREGNANCIES\n",
      "[ 0  1  2  3  4  5  6  7  8  9 10 11 12 13 14 15 17]\n",
      "==============================\n",
      "Nilai Unik untuk Atribut  GLUCOSE\n",
      "[  0  44  56  57  61  62  65  67  68  71  72  73  74  75  76  77  78  79\n",
      "  80  81  82  83  84  85  86  87  88  89  90  91  92  93  94  95  96  97\n",
      "  98  99 100 101 102 103 104 105 106 107 108 109 110 111 112 113 114 115\n",
      " 116 117 118 119 120 121 122 123 124 125 126 127 128 129 130 131 132 133\n",
      " 134 135 136 137 138 139 140 141 142 143 144 145 146 147 148 149 150 151\n",
      " 152 153 154 155 156 157 158 159 160 161 162 163 164 165 166 167 168 169\n",
      " 170 171 172 173 174 175 176 177 178 179 180 181 182 183 184 186 187 188\n",
      " 189 190 191 193 194 195 196 197 198 199]\n",
      "==============================\n",
      "Nilai Unik untuk Atribut  BLOODPRESSURE\n",
      "[  0  24  30  38  40  44  46  48  50  52  54  55  56  58  60  61  62  64\n",
      "  65  66  68  70  72  74  75  76  78  80  82  84  85  86  88  90  92  94\n",
      "  95  96  98 100 102 104 106 108 110 114 122]\n",
      "==============================\n",
      "Nilai Unik untuk Atribut  SKINTHICKNESS\n",
      "[ 0  7  8 10 11 12 13 14 15 16 17 18 19 20 21 22 23 24 25 26 27 28 29 30\n",
      " 31 32 33 34 35 36 37 38 39 40 41 42 43 44 45 46 47 48 49 50 51 52 54 56\n",
      " 60 63 99]\n",
      "==============================\n",
      "Nilai Unik untuk Atribut  INSULIN\n",
      "[  0  14  15  16  18  22  23  25  29  32  36  37  38  40  41  42  43  44\n",
      "  45  46  48  49  50  51  52  53  54  55  56  57  58  59  60  61  63  64\n",
      "  65  66  67  68  70  71  72  73  74  75  76  77  78  79  81  82  83  84\n",
      "  85  86  87  88  89  90  91  92  94  95  96  99 100 105 106 108 110 112\n",
      " 114 115 116 119 120 122 125 126 127 128 129 130 132 135 140 142 144 145\n",
      " 146 148 150 152 155 156 158 159 160 165 166 167 168 170 171 175 176 178\n",
      " 180 182 183 184 185 188 190 191 192 193 194 196 200 204 205 207 210 215\n",
      " 220 225 228 230 231 235 237 240 245 249 250 255 258 265 270 271 272 274\n",
      " 275 277 278 280 284 285 291 293 300 304 310 318 321 325 326 328 330 335\n",
      " 342 360 370 375 387 392 402 415 440 465 474 478 480 485 495 510 540 543\n",
      " 545 579 600 680 744 846]\n",
      "==============================\n",
      "Nilai Unik untuk Atribut  BMI\n",
      "[ 0.  18.2 18.4 19.1 19.3 19.4 19.5 19.6 19.9 20.  20.1 20.4 20.8 21.\n",
      " 21.1 21.2 21.7 21.8 21.9 22.1 22.2 22.3 22.4 22.5 22.6 22.7 22.9 23.\n",
      " 23.1 23.2 23.3 23.4 23.5 23.6 23.7 23.8 23.9 24.  24.1 24.2 24.3 24.4\n",
      " 24.5 24.6 24.7 24.8 24.9 25.  25.1 25.2 25.3 25.4 25.5 25.6 25.8 25.9\n",
      " 26.  26.1 26.2 26.3 26.4 26.5 26.6 26.7 26.8 26.9 27.  27.1 27.2 27.3\n",
      " 27.4 27.5 27.6 27.7 27.8 27.9 28.  28.1 28.2 28.3 28.4 28.5 28.6 28.7\n",
      " 28.8 28.9 29.  29.2 29.3 29.5 29.6 29.7 29.8 29.9 30.  30.1 30.2 30.3\n",
      " 30.4 30.5 30.7 30.8 30.9 31.  31.1 31.2 31.3 31.6 31.9 32.  32.1 32.2\n",
      " 32.3 32.4 32.5 32.6 32.7 32.8 32.9 33.1 33.2 33.3 33.5 33.6 33.7 33.8\n",
      " 33.9 34.  34.1 34.2 34.3 34.4 34.5 34.6 34.7 34.8 34.9 35.  35.1 35.2\n",
      " 35.3 35.4 35.5 35.6 35.7 35.8 35.9 36.  36.1 36.2 36.3 36.4 36.5 36.6\n",
      " 36.7 36.8 36.9 37.  37.1 37.2 37.3 37.4 37.5 37.6 37.7 37.8 37.9 38.\n",
      " 38.1 38.2 38.3 38.4 38.5 38.6 38.7 38.8 38.9 39.  39.1 39.2 39.3 39.4\n",
      " 39.5 39.6 39.7 39.8 39.9 40.  40.1 40.2 40.5 40.6 40.7 40.8 40.9 41.\n",
      " 41.2 41.3 41.5 41.8 42.  42.1 42.2 42.3 42.4 42.6 42.7 42.8 42.9 43.1\n",
      " 43.2 43.3 43.4 43.5 43.6 44.  44.1 44.2 44.5 44.6 45.  45.2 45.3 45.4\n",
      " 45.5 45.6 45.7 45.8 46.1 46.2 46.3 46.5 46.7 46.8 47.9 48.3 48.8 49.3\n",
      " 49.6 49.7 50.  52.3 52.9 53.2 55.  57.3 59.4 67.1]\n",
      "==============================\n",
      "Nilai Unik untuk Atribut  DIABETESPEDIGREEFUNCTION\n",
      "[0.078 0.084 0.085 0.088 0.089 0.092 0.096 0.1   0.101 0.102 0.107 0.108\n",
      " 0.115 0.118 0.121 0.122 0.123 0.126 0.127 0.128 0.129 0.13  0.133 0.134\n",
      " 0.135 0.136 0.137 0.138 0.14  0.141 0.142 0.143 0.144 0.145 0.147 0.148\n",
      " 0.149 0.15  0.151 0.153 0.154 0.155 0.156 0.157 0.158 0.159 0.16  0.161\n",
      " 0.162 0.163 0.164 0.165 0.166 0.167 0.17  0.171 0.173 0.174 0.175 0.176\n",
      " 0.177 0.178 0.179 0.18  0.181 0.182 0.183 0.186 0.187 0.188 0.189 0.19\n",
      " 0.191 0.192 0.194 0.196 0.197 0.198 0.199 0.2   0.201 0.203 0.204 0.205\n",
      " 0.206 0.207 0.209 0.21  0.212 0.215 0.217 0.218 0.219 0.22  0.221 0.222\n",
      " 0.223 0.225 0.226 0.227 0.229 0.23  0.231 0.232 0.233 0.234 0.235 0.236\n",
      " 0.237 0.238 0.239 0.24  0.241 0.243 0.244 0.245 0.246 0.247 0.248 0.249\n",
      " 0.251 0.252 0.253 0.254 0.255 0.256 0.257 0.258 0.259 0.26  0.261 0.262\n",
      " 0.263 0.264 0.265 0.267 0.268 0.269 0.27  0.271 0.272 0.277 0.278 0.279\n",
      " 0.28  0.282 0.283 0.284 0.285 0.286 0.287 0.289 0.29  0.292 0.293 0.294\n",
      " 0.295 0.296 0.297 0.299 0.3   0.302 0.303 0.304 0.305 0.306 0.307 0.313\n",
      " 0.314 0.315 0.317 0.318 0.319 0.323 0.324 0.325 0.326 0.328 0.329 0.33\n",
      " 0.331 0.332 0.334 0.335 0.336 0.337 0.338 0.34  0.341 0.342 0.343 0.344\n",
      " 0.345 0.346 0.347 0.349 0.351 0.352 0.355 0.356 0.358 0.361 0.362 0.364\n",
      " 0.365 0.366 0.368 0.37  0.371 0.374 0.375 0.376 0.378 0.38  0.381 0.382\n",
      " 0.383 0.385 0.388 0.389 0.391 0.393 0.394 0.395 0.396 0.398 0.399 0.4\n",
      " 0.401 0.402 0.403 0.404 0.407 0.408 0.409 0.411 0.412 0.415 0.416 0.417\n",
      " 0.419 0.42  0.421 0.422 0.423 0.426 0.427 0.43  0.431 0.432 0.433 0.434\n",
      " 0.435 0.439 0.441 0.443 0.444 0.446 0.447 0.451 0.452 0.453 0.454 0.455\n",
      " 0.457 0.46  0.463 0.464 0.465 0.466 0.467 0.471 0.472 0.479 0.482 0.483\n",
      " 0.484 0.485 0.487 0.488 0.491 0.493 0.495 0.496 0.497 0.498 0.499 0.501\n",
      " 0.502 0.503 0.507 0.509 0.51  0.512 0.514 0.515 0.516 0.52  0.525 0.526\n",
      " 0.527 0.528 0.529 0.532 0.534 0.536 0.537 0.539 0.542 0.543 0.545 0.546\n",
      " 0.547 0.549 0.551 0.554 0.557 0.559 0.56  0.561 0.564 0.565 0.569 0.571\n",
      " 0.572 0.575 0.578 0.58  0.582 0.583 0.586 0.587 0.588 0.591 0.593 0.595\n",
      " 0.597 0.598 0.6   0.601 0.605 0.607 0.61  0.612 0.613 0.614 0.615 0.619\n",
      " 0.624 0.626 0.627 0.629 0.63  0.631 0.637 0.64  0.645 0.646 0.647 0.649\n",
      " 0.652 0.654 0.655 0.658 0.66  0.661 0.665 0.666 0.672 0.673 0.674 0.677\n",
      " 0.678 0.68  0.682 0.686 0.687 0.692 0.693 0.695 0.696 0.698 0.699 0.702\n",
      " 0.703 0.704 0.705 0.709 0.711 0.717 0.718 0.719 0.721 0.722 0.725 0.727\n",
      " 0.73  0.731 0.732 0.733 0.734 0.735 0.738 0.741 0.742 0.743 0.744 0.745\n",
      " 0.748 0.757 0.759 0.761 0.766 0.767 0.771 0.773 0.785 0.787 0.801 0.803\n",
      " 0.804 0.805 0.808 0.813 0.816 0.817 0.821 0.825 0.826 0.828 0.831 0.832\n",
      " 0.833 0.839 0.84  0.845 0.851 0.855 0.856 0.867 0.871 0.874 0.875 0.878\n",
      " 0.88  0.881 0.886 0.892 0.893 0.904 0.905 0.917 0.925 0.926 0.93  0.932\n",
      " 0.933 0.944 0.947 0.949 0.955 0.956 0.962 0.966 0.968 0.97  0.997 1.001\n",
      " 1.021 1.022 1.034 1.057 1.072 1.076 1.095 1.096 1.101 1.114 1.127 1.136\n",
      " 1.138 1.144 1.154 1.159 1.162 1.174 1.182 1.189 1.191 1.213 1.222 1.224\n",
      " 1.251 1.258 1.268 1.282 1.292 1.318 1.321 1.353 1.39  1.391 1.394 1.4\n",
      " 1.441 1.461 1.476 1.6   1.698 1.699 1.731 1.781 1.893 2.137 2.288 2.329\n",
      " 2.42 ]\n",
      "==============================\n",
      "Nilai Unik untuk Atribut  AGE\n",
      "[21 22 23 24 25 26 27 28 29 30 31 32 33 34 35 36 37 38 39 40 41 42 43 44\n",
      " 45 46 47 48 49 50 51 52 53 54 55 56 57 58 59 60 61 62 63 64 65 66 67 68\n",
      " 69 70 72 81]\n",
      "==============================\n",
      "Nilai Unik untuk Atribut  OUTCOME\n",
      "[0 1]\n",
      "==============================\n"
     ]
    }
   ],
   "source": [
    "for col in diabetic_df.columns.values:\n",
    "    print(\"Nilai Unik untuk Atribut \", col.upper())\n",
    "    print(np.sort(diabetic_df[col].unique()))\n",
    "    print(\"=\"*30)"
   ]
  },
  {
   "cell_type": "markdown",
   "id": "9ef37624",
   "metadata": {},
   "source": [
    "## Mengetahui jumlah nilai unik setiap atribut"
   ]
  },
  {
   "cell_type": "code",
   "execution_count": 14,
   "id": "2759f96f",
   "metadata": {},
   "outputs": [],
   "source": [
    "x_labels = diabetic_df.nunique().index\n",
    "y_labels = diabetic_df.nunique().values"
   ]
  },
  {
   "cell_type": "code",
   "execution_count": 15,
   "id": "eab109df",
   "metadata": {},
   "outputs": [
    {
     "data": {
      "image/png": "[encoded data removed]",
      "text/plain": [
       "<Figure size 864x720 with 1 Axes>"
      ]
     },
     "metadata": {
      "needs_background": "light"
     },
     "output_type": "display_data"
    }
   ],
   "source": [
    "plt.figure(figsize=(12,10))\n",
    "sns.barplot(x=x_labels,y=y_labels)\n",
    "\n",
    "# anotation jumlah nilai unik setiap fitur\n",
    "for i in range(len(x_labels)):\n",
    "    plt.text(i-0.1,y_labels[i]+5,str(y_labels[i]))\n",
    "\n",
    "plt.title('Jumlah nilai unik pada setiap atribut')\n",
    "plt.xlabel('Atribut')\n",
    "plt.ylabel('Jumlah')\n",
    "plt.xticks(rotation=90)\n",
    "plt.show()"
   ]
  },
  {
   "cell_type": "markdown",
   "id": "fddedeb1",
   "metadata": {},
   "source": [
    "## Replacing *0 invalid values* pada beberapa atribut\n",
    "***\n",
    "Atribut di bawah ini mengandung nilai **0** yang merupakan invalid values\n",
    "- Glucose\n",
    "- BloodPressure\n",
    "- SkinThickness\n",
    "- Insulin\n",
    "- BMI"
   ]
  },
  {
   "cell_type": "code",
   "execution_count": 16,
   "id": "613089fa",
   "metadata": {},
   "outputs": [],
   "source": [
    "features_contain_invalid_ = ['Glucose','BloodPressure','SkinThickness','Insulin','BMI']"
   ]
  },
  {
   "cell_type": "markdown",
   "id": "9195433c",
   "metadata": {},
   "source": [
    "### Ganti 0 invalid values dengan median dari atribut yang bersangkutan\n",
    "***\n",
    "Berhubung semua atribut yang mengandung nilai 0 adalah bertipe numerik, maka imputasinya menggunakan *median*"
   ]
  },
  {
   "cell_type": "code",
   "execution_count": 17,
   "id": "8b273b0a",
   "metadata": {},
   "outputs": [],
   "source": [
    "# ganti 0 pada kolom yang memuat invalid values dengan median\n",
    "for inv_col in features_contain_invalid_:\n",
    "    diabetic_df[inv_col].replace({0:diabetic_df[inv_col].median()}, inplace=True)"
   ]
  },
  {
   "cell_type": "markdown",
   "id": "c571e80b",
   "metadata": {},
   "source": [
    "## Data Visualization"
   ]
  },
  {
   "cell_type": "markdown",
   "id": "679a27de",
   "metadata": {},
   "source": [
    "### Data Distribution using Histogram"
   ]
  },
  {
   "cell_type": "code",
   "execution_count": 18,
   "id": "1091ed7c",
   "metadata": {},
   "outputs": [
    {
     "data": {
      "image/png": "[encoded data removed]",
      "text/plain": [
       "<Figure size 720x1584 with 16 Axes>"
      ]
     },
     "metadata": {
      "needs_background": "light"
     },
     "output_type": "display_data"
    }
   ],
   "source": [
    "diabetic_attributes_ ,diabetic_target_ = split_attributes_target(diabetic_df,'Outcome')\n",
    "n_rows = len(diabetic_attributes_.columns.values)\n",
    "n_cols = 2\n",
    "\n",
    "\n",
    "fig = plt.figure( figsize=(10,22))\n",
    "axs= []\n",
    "plot_number = 1\n",
    "\n",
    "for col in diabetic_attributes_.columns.values:\n",
    "    # add histogram \n",
    "    axs.append(fig.add_subplot(n_rows,n_cols,plot_number))\n",
    "    count, bin_edges = np.histogram(diabetic_df[col])\n",
    "    sns.histplot(diabetic_df[col], bins=bin_edges,ax=axs[plot_number-1], kde=True,)\n",
    "    axs[plot_number-1].set_title('Grafik Distribusi Atribut '+col)\n",
    "    plot_number+=1\n",
    "    \n",
    "    # add boxplot\n",
    "    axs.append(fig.add_subplot(n_rows,n_cols,plot_number))\n",
    "    sns.boxplot(x=diabetic_df[col], ax=axs[plot_number-1])\n",
    "    axs[plot_number-1].set_title('Boxplot Atribut '+col)\n",
    "    plot_number+=1\n",
    "\n",
    "fig.tight_layout(pad=3)"
   ]
  },
  {
   "cell_type": "markdown",
   "id": "b3e8fe46",
   "metadata": {},
   "source": [
    "Mayoritas atribut masih mengandung outliers"
   ]
  },
  {
   "cell_type": "markdown",
   "id": "0dd5b7a9",
   "metadata": {},
   "source": [
    "### Percentage of each class target"
   ]
  },
  {
   "cell_type": "code",
   "execution_count": 19,
   "id": "72f3b0b5",
   "metadata": {},
   "outputs": [
    {
     "data": {
      "image/png": "[encoded data removed]",
      "text/plain": [
       "<Figure size 720x504 with 1 Axes>"
      ]
     },
     "metadata": {
      "needs_background": "light"
     },
     "output_type": "display_data"
    }
   ],
   "source": [
    "x = diabetic_df['Outcome'].value_counts().index\n",
    "y = diabetic_df['Outcome'].value_counts().values\n",
    "\n",
    "plt.figure(figsize=(10,7))\n",
    "sns.countplot(x=diabetic_df['Outcome'])\n",
    "for i in range(len(x)):\n",
    "    plt.text(i-0.15,y[i]+5,str(np.round((y[i]/diabetic_df.shape[0])*100,1)) + \"%\")"
   ]
  },
  {
   "cell_type": "markdown",
   "id": "e88910a2",
   "metadata": {},
   "source": [
    "Imbalanced dataset: <br>\n",
    "1. Kelas 0 **65,1%** \n",
    "2. Kelas 1 **34,9%**\n",
    "\n",
    "Imbalanced hampir 2x lipat ini mungkin berpengaruh ke recall dari model klasifikasi"
   ]
  },
  {
   "cell_type": "markdown",
   "id": "47435b8e",
   "metadata": {},
   "source": [
    "# Preprocessing"
   ]
  },
  {
   "cell_type": "markdown",
   "id": "22a04d5c",
   "metadata": {},
   "source": [
    "## Siapkan dictionary untuk menampung hasil preprocessing"
   ]
  },
  {
   "cell_type": "code",
   "execution_count": 20,
   "id": "143e7bff",
   "metadata": {},
   "outputs": [],
   "source": [
    "models = dict()"
   ]
  },
  {
   "cell_type": "markdown",
   "id": "65f11037",
   "metadata": {},
   "source": [
    "## Data Loading"
   ]
  },
  {
   "cell_type": "code",
   "execution_count": 21,
   "id": "1fa8a837",
   "metadata": {},
   "outputs": [],
   "source": [
    "diabetic_df = pd.read_csv('dataset/diabetes.csv')"
   ]
  },
  {
   "cell_type": "markdown",
   "id": "85e2ed90",
   "metadata": {},
   "source": [
    "## Splitting Attibutes and Target"
   ]
  },
  {
   "cell_type": "code",
   "execution_count": 22,
   "id": "fd4c651c",
   "metadata": {},
   "outputs": [],
   "source": [
    "X,y = split_attributes_target(diabetic_df,'Outcome')\n",
    "\n",
    "# numerical atributes\n",
    "numerical_columns = X.select_dtypes(include=['float64','int64']).columns.values\n",
    "\n",
    "# feature contain invalid values\n",
    "features_contain_invalid_ = features_contain_invalid_\n",
    "\n",
    "# save into models\n",
    "models['columns']=[\n",
    "    ('numerical', numerical_columns),\n",
    "    ('invalid', features_contain_invalid_),\n",
    "]"
   ]
  },
  {
   "cell_type": "markdown",
   "id": "e7000b9b",
   "metadata": {},
   "source": [
    "## Splitting  data into train and test"
   ]
  },
  {
   "cell_type": "code",
   "execution_count": 23,
   "id": "28f5788c",
   "metadata": {},
   "outputs": [],
   "source": [
    "X_train,X_test,y_train,y_test = train_test_split(X, y, test_size=0.3, random_state=42, stratify=y)"
   ]
  },
  {
   "cell_type": "markdown",
   "id": "fea8b92f",
   "metadata": {},
   "source": [
    "## Undersampling Training Data"
   ]
  },
  {
   "cell_type": "code",
   "execution_count": 24,
   "id": "4f31ae16",
   "metadata": {},
   "outputs": [],
   "source": [
    "# menyatukan atribut dan target pada data latih\n",
    "df = pd.concat([pd.DataFrame(data=X_train.reset_index(drop=True)),y_train.reset_index(drop=True)],axis=1)"
   ]
  },
  {
   "cell_type": "code",
   "execution_count": 25,
   "id": "ab624bc8",
   "metadata": {},
   "outputs": [
    {
     "data": {
      "text/plain": [
       "0    350\n",
       "1    187\n",
       "Name: Outcome, dtype: int64"
      ]
     },
     "execution_count": 25,
     "metadata": {},
     "output_type": "execute_result"
    }
   ],
   "source": [
    "# melihat banyak setiap nilai pada label kelas\n",
    "df['Outcome'].value_counts()"
   ]
  },
  {
   "cell_type": "code",
   "execution_count": 26,
   "id": "cc1c8c3e",
   "metadata": {},
   "outputs": [],
   "source": [
    "# under-sampling kelas 'No' agar jumlahnya sama dengan kelas 'Yes' sebesar n_sampel\n",
    "no_df = df[df['Outcome']==0].sample(frac=1, random_state=42)[:df['Outcome'].value_counts()[1]]\n",
    "yes_df = df[df['Outcome']==1].sample(frac=1, random_state=42)\n",
    "\n",
    "# concat data berlabel 'yes' dan 'no' hasil balanced sampling\n",
    "normal_distributed_df = pd.concat([yes_df,no_df])\n",
    "\n",
    "# shuffle row pada data yang sudah digabung agar acak\n",
    "diabetic_df_normal_distributed = normal_distributed_df.sample(frac=1, random_state=42)\n",
    "\n",
    "X_train = diabetic_df_normal_distributed.drop('Outcome',axis=1)\n",
    "y_train = diabetic_df_normal_distributed['Outcome']"
   ]
  },
  {
   "cell_type": "markdown",
   "id": "3178ae35",
   "metadata": {},
   "source": [
    "## Feature Selection using ANOVA"
   ]
  },
  {
   "cell_type": "markdown",
   "id": "2b0c9085",
   "metadata": {},
   "source": [
    "### Hitung kepentingan fitur pada data latih"
   ]
  },
  {
   "cell_type": "code",
   "execution_count": 27,
   "id": "cbfd9ad3",
   "metadata": {},
   "outputs": [
    {
     "data": {
      "image/png": "[encoded data removed]",
      "text/plain": [
       "<Figure size 864x720 with 1 Axes>"
      ]
     },
     "metadata": {
      "needs_background": "light"
     },
     "output_type": "display_data"
    }
   ],
   "source": [
    "# instansiasi objek\n",
    "anova_fs = SelectKBest(score_func=f_classif, k='all')\n",
    "# anova fit into data training\n",
    "anova_fs = anova_fs.fit(X_train,y_train)\n",
    "\n",
    "# Plotting features important\n",
    "plt.figure(figsize=(12,10))\n",
    "plt.barh(list(anova_fs.feature_names_in_),anova_fs.scores_)\n",
    "plt.ylabel('Daftar Atribut')\n",
    "plt.xlabel('F-Scores Atribut')\n",
    "plt.title('Nilai F-Score Setiap Atribut terhadap label')\n",
    "plt.show()"
   ]
  },
  {
   "cell_type": "markdown",
   "id": "7ea75f9c",
   "metadata": {},
   "source": [
    "Ambil 4 fitur dengan score tertinggi, yaitu **Glucose, BMI, Pregnancies, dan Age**. Sisanya akan dibuang"
   ]
  },
  {
   "cell_type": "markdown",
   "id": "a2ed5bfe",
   "metadata": {},
   "source": [
    "### Buat objek ANOVA Final"
   ]
  },
  {
   "cell_type": "code",
   "execution_count": 28,
   "id": "e05cdc81",
   "metadata": {},
   "outputs": [],
   "source": [
    "# instansiasi objek anova_final\n",
    "anova_final_fs_ = SelectKBest(score_func=f_classif, k=4)\n",
    "\n",
    "# anova fit into data training\n",
    "anova_final_fs_ = anova_final_fs_.fit(X_train,y_train)\n",
    "\n",
    "# transform into train and test data\n",
    "X_train_fs = anova_final_fs_.transform(X_train)\n",
    "X_test_fs = anova_final_fs_.transform(X_test)"
   ]
  },
  {
   "cell_type": "code",
   "execution_count": 29,
   "id": "c3da2364",
   "metadata": {},
   "outputs": [
    {
     "data": {
      "text/plain": [
       "array([[  3. , 102. ,  30.8,  26. ],\n",
       "       [  0. , 129. ,  67.1,  26. ],\n",
       "       [  6. , 147. ,  29.5,  50. ],\n",
       "       ...,\n",
       "       [  5. , 155. ,  38.7,  34. ],\n",
       "       [  7. , 150. ,  34.7,  42. ],\n",
       "       [  0. , 188. ,  32. ,  22. ]])"
      ]
     },
     "execution_count": 29,
     "metadata": {},
     "output_type": "execute_result"
    }
   ],
   "source": [
    "X_train_fs"
   ]
  },
  {
   "cell_type": "markdown",
   "id": "51fbf3e3",
   "metadata": {},
   "source": [
    "### Buat dataframe hasil feature selection dan tentukan best features"
   ]
  },
  {
   "cell_type": "code",
   "execution_count": 30,
   "id": "4a6061b1",
   "metadata": {},
   "outputs": [],
   "source": [
    "mask = anova_final_fs_.get_support() #list of booleans\n",
    "best_features_anova_ = [] # The list of your K best features\n",
    "\n",
    "for bool, feature in zip(mask, X_train.columns):\n",
    "    if bool:\n",
    "        best_features_anova_.append(feature)"
   ]
  },
  {
   "cell_type": "code",
   "execution_count": 31,
   "id": "f25bb021",
   "metadata": {},
   "outputs": [],
   "source": [
    "X_train = pd.DataFrame(data=X_train_fs,columns=best_features_anova_)\n",
    "X_test = pd.DataFrame(data=X_test_fs,columns=best_features_anova_)"
   ]
  },
  {
   "cell_type": "markdown",
   "id": "7d193d1d",
   "metadata": {},
   "source": [
    "### Simpan hasil feature selection into models"
   ]
  },
  {
   "cell_type": "code",
   "execution_count": 32,
   "id": "9b091cce",
   "metadata": {},
   "outputs": [],
   "source": [
    "models['feature_selection']={\n",
    "    'method':'ANOVA F-Score',\n",
    "    'scaler': anova_final_fs_,\n",
    "    'best_k':4,\n",
    "    'best_features_':best_features_anova_\n",
    "}"
   ]
  },
  {
   "cell_type": "markdown",
   "id": "dce45590",
   "metadata": {},
   "source": [
    "## Imputasi Invalid Values\n",
    "***\n",
    "Nilai median akan digunakan untuk mengimputasi nilai invalid dari setiap atributnya"
   ]
  },
  {
   "cell_type": "code",
   "execution_count": 33,
   "id": "e35f0e27",
   "metadata": {},
   "outputs": [],
   "source": [
    "# ganti nilai invalid dengan np.nan\n",
    "for invalid_col in best_features_anova_:\n",
    "    X_train[invalid_col].replace({0:np.nan}, inplace=True)\n",
    "    X_test[invalid_col].replace({0:np.nan}, inplace=True)\n",
    "    \n",
    "\n",
    "# imputasi nan dengan median\n",
    "numerical_imputer = SimpleImputer(strategy='median')\n",
    "numerical_imputer.fit(X_train[best_features_anova_])\n",
    "\n",
    "X_train[best_features_anova_] = numerical_imputer.transform(X_train[best_features_anova_])\n",
    "X_test[best_features_anova_] = numerical_imputer.transform(X_test[best_features_anova_]) \n",
    "\n",
    "# save numerical imputer into models\n",
    "models['imputer']={\n",
    "    'numerical':numerical_imputer\n",
    "}"
   ]
  },
  {
   "cell_type": "markdown",
   "id": "c35486cc",
   "metadata": {},
   "source": [
    "## Outliers Handling"
   ]
  },
  {
   "cell_type": "markdown",
   "id": "b425eafa",
   "metadata": {},
   "source": [
    "### Function untuk menentukan batas IQR Outliers"
   ]
  },
  {
   "cell_type": "code",
   "execution_count": 34,
   "id": "16959972",
   "metadata": {},
   "outputs": [],
   "source": [
    "def fences(df, variable_name):    \n",
    "    q1 = df[variable_name].quantile(0.25)\n",
    "    q3 = df[variable_name].quantile(0.75)\n",
    "    iqr = q3-q1\n",
    "    outer_fence = 1.5*iqr\n",
    "    outer_fence_lower = q1-outer_fence\n",
    "    outer_fence_upper = q3+outer_fence\n",
    "    return (outer_fence_lower, outer_fence_upper)"
   ]
  },
  {
   "cell_type": "code",
   "execution_count": 35,
   "id": "0ec88214",
   "metadata": {},
   "outputs": [],
   "source": [
    "feature_fence_dict_ = dict()\n",
    "\n",
    "for feature in X_train.columns.values:\n",
    "    feature_fence_dict_[feature] = fences(X_train,feature)"
   ]
  },
  {
   "cell_type": "code",
   "execution_count": 36,
   "id": "a1be1904",
   "metadata": {},
   "outputs": [
    {
     "data": {
      "text/plain": [
       "{'Pregnancies': (-5.5, 14.5),\n",
       " 'Glucose': (35.875, 214.875),\n",
       " 'BMI': (17.124999999999996, 48.525000000000006),\n",
       " 'Age': (-3.0, 69.0)}"
      ]
     },
     "execution_count": 36,
     "metadata": {},
     "output_type": "execute_result"
    }
   ],
   "source": [
    "feature_fence_dict_"
   ]
  },
  {
   "cell_type": "markdown",
   "id": "32091fb3",
   "metadata": {},
   "source": [
    "**ANALISIS**<br>\n",
    "Outer fence lower yang dibawah 0 tidak memiliki artinya, sehingga atribut yang demikian akan di winsorized pada right tail saja. Sisanya akan di winsorize pada kedua sisi. <br>\n",
    "Right tail winsorized: <br>\n",
    "1. Pregnancies\n",
    "2. Age"
   ]
  },
  {
   "cell_type": "markdown",
   "id": "45c5a764",
   "metadata": {},
   "source": [
    "### Winsorizing"
   ]
  },
  {
   "cell_type": "code",
   "execution_count": 37,
   "id": "101bc8e7",
   "metadata": {},
   "outputs": [],
   "source": [
    "X_train_win = X_train.copy(deep=True)"
   ]
  },
  {
   "cell_type": "code",
   "execution_count": 38,
   "id": "527c2566",
   "metadata": {},
   "outputs": [],
   "source": [
    "right_tails_columns = ['Pregnancies','Age']\n",
    "all_tails_columns = [col for col in X_train.columns.values if col not in right_tails_columns]\n",
    "\n",
    "# remove atribut 'Glucose' karna sudah tidak ada outliers\n",
    "all_tails_columns.remove('Glucose')\n",
    "\n",
    "# save columns into models\n",
    "models['columns'].append(('right_tail_columns',right_tails_columns))\n",
    "models['columns'].append(('all_tails_columns',all_tails_columns))"
   ]
  },
  {
   "cell_type": "code",
   "execution_count": 39,
   "id": "1b3c4251",
   "metadata": {},
   "outputs": [],
   "source": [
    "# winsorize k=5% on right tails\n",
    "for right_col in right_tails_columns:\n",
    "    X_train_win[right_col] = winsorize(X_train_win[right_col], limits=(0, 0.05))\n",
    "    \n",
    "# winsorize k=5% on all tails\n",
    "for all_col in all_tails_columns:\n",
    "    X_train_win[all_col] = winsorize(X_train_win[all_col], limits=(0.05, 0.05))"
   ]
  },
  {
   "cell_type": "code",
   "execution_count": 40,
   "id": "e801cdaa",
   "metadata": {},
   "outputs": [
    {
     "data": {
      "image/png": "[encoded data removed]",
      "text/plain": [
       "<Figure size 720x1584 with 4 Axes>"
      ]
     },
     "metadata": {
      "needs_background": "light"
     },
     "output_type": "display_data"
    }
   ],
   "source": [
    "fig = plt.figure( figsize=(10,22))\n",
    "axs= []\n",
    "plot_number = 1\n",
    "\n",
    "for col in X_train_win.columns.values:\n",
    "    axs.append(fig.add_subplot(n_rows,n_cols,plot_number))\n",
    "    sns.boxplot(x=X_train_win[col], ax=axs[plot_number-1])\n",
    "    axs[plot_number-1].set_title('Boxplot Atribut '+col)\n",
    "    \n",
    "    plot_number+=1\n",
    "\n",
    "fig.tight_layout(pad=3)"
   ]
  },
  {
   "cell_type": "markdown",
   "id": "abd3473f",
   "metadata": {},
   "source": [
    "Setelah di winsorize, data train tidak ada outliers"
   ]
  },
  {
   "cell_type": "code",
   "execution_count": 41,
   "id": "fbf85e6b",
   "metadata": {},
   "outputs": [],
   "source": [
    "X_train = X_train_win.copy(deep=True)"
   ]
  },
  {
   "cell_type": "markdown",
   "id": "4ab9ebfc",
   "metadata": {},
   "source": [
    "## Scaling"
   ]
  },
  {
   "cell_type": "markdown",
   "id": "15471621",
   "metadata": {},
   "source": [
    "### Scaling with anova feature selection"
   ]
  },
  {
   "cell_type": "code",
   "execution_count": 42,
   "id": "3230393e",
   "metadata": {},
   "outputs": [],
   "source": [
    "# instansiasi objek scaler\n",
    "standard_scaler = StandardScaler()\n",
    "\n",
    "# fit into training data\n",
    "standard_scaler.fit(X_train)\n",
    "\n",
    "# transform into train and tes\n",
    "X_train = standard_scaler.transform(X_train)\n",
    "X_test = standard_scaler.transform(X_test)"
   ]
  },
  {
   "cell_type": "markdown",
   "id": "f6e724ff",
   "metadata": {},
   "source": [
    "### Save normalize scaler"
   ]
  },
  {
   "cell_type": "code",
   "execution_count": 43,
   "id": "e2dadf08",
   "metadata": {},
   "outputs": [],
   "source": [
    "models['standard_scaler']={\n",
    "    'scaler':standard_scaler,\n",
    "    'method':'Standard Scaler'\n",
    "}"
   ]
  },
  {
   "cell_type": "markdown",
   "id": "5e32abad",
   "metadata": {},
   "source": [
    "## Dimensionality Reduction"
   ]
  },
  {
   "cell_type": "markdown",
   "id": "72eb1c9e",
   "metadata": {},
   "source": [
    "### Find best component"
   ]
  },
  {
   "cell_type": "code",
   "execution_count": 44,
   "id": "4496dcb9",
   "metadata": {},
   "outputs": [
    {
     "data": {
      "image/png": "[encoded data removed]",
      "text/plain": [
       "<Figure size 432x288 with 1 Axes>"
      ]
     },
     "metadata": {
      "needs_background": "light"
     },
     "output_type": "display_data"
    }
   ],
   "source": [
    "pca_ = PCA()\n",
    "\n",
    "# fit into train\n",
    "pca_.fit(X_train)\n",
    "\n",
    "plt.plot(np.cumsum(pca_.explained_variance_ratio_), marker='o')\n",
    "plt.xticks(ticks=range(0,len(best_features_anova_)), labels=['PC-'+str(i+1) for i in range(0,len(best_features_anova_))])\n",
    "plt.show()"
   ]
  },
  {
   "cell_type": "code",
   "execution_count": 45,
   "id": "de49ea94",
   "metadata": {},
   "outputs": [
    {
     "name": "stdout",
     "output_type": "stream",
     "text": [
      "[0.43004319 0.68885903 0.88828115 1.        ]\n"
     ]
    }
   ],
   "source": [
    "print(np.cumsum(pca_.explained_variance_ratio_))"
   ]
  },
  {
   "cell_type": "markdown",
   "id": "2b2abcee",
   "metadata": {},
   "source": [
    "Dengan menggunakan 2 principal component sudah cukup menjelaskan +- 70% informasi dari data"
   ]
  },
  {
   "cell_type": "markdown",
   "id": "9f4ffb42",
   "metadata": {},
   "source": [
    "### Create PCA Scaler for n best component"
   ]
  },
  {
   "cell_type": "code",
   "execution_count": 46,
   "id": "32dc7fcf",
   "metadata": {},
   "outputs": [],
   "source": [
    "def find_best_pc(pc_):\n",
    "    threshold_cumsum = 0.70\n",
    "    best_principal_component = 0\n",
    "    for pc_ke,cumsum in enumerate(np.cumsum(pca_.explained_variance_ratio_)):\n",
    "        if cumsum >=threshold_cumsum:\n",
    "            # tambah 1 karna start index dari 0\n",
    "            best_principal_component=pc_ke+1\n",
    "            break\n",
    "    return best_principal_component"
   ]
  },
  {
   "cell_type": "code",
   "execution_count": 47,
   "id": "bc677f57",
   "metadata": {},
   "outputs": [],
   "source": [
    "best_principal_component = find_best_pc(pca_)\n",
    "pca_scaler_ = PCA(n_components=best_principal_component)\n",
    "\n",
    "# fit into train \n",
    "pca_scaler_.fit(X_train)\n",
    "\n",
    "# transform into train and test\n",
    "X_train_pca = pca_scaler_.transform(X_train)\n",
    "X_test_pca = pca_scaler_.transform(X_test)"
   ]
  },
  {
   "cell_type": "markdown",
   "id": "570e7158",
   "metadata": {},
   "source": [
    "### Simpan PCA Scaler"
   ]
  },
  {
   "cell_type": "code",
   "execution_count": 48,
   "id": "a27c9201",
   "metadata": {},
   "outputs": [],
   "source": [
    "models['dimensionality_reduction']={\n",
    "    'method':'PCA',\n",
    "    'best_k':best_principal_component,\n",
    "    'scaler':pca_scaler_,\n",
    "}"
   ]
  },
  {
   "cell_type": "markdown",
   "id": "c4422b28",
   "metadata": {},
   "source": [
    "## Simpan data akhir hasil preprocessing"
   ]
  },
  {
   "cell_type": "code",
   "execution_count": 49,
   "id": "062766cf",
   "metadata": {},
   "outputs": [],
   "source": [
    "models['data']={\n",
    "    'after_preprocessing':{\n",
    "        'X_train':X_train_pca,\n",
    "        'y_train':y_train,\n",
    "        'X_test':X_test_pca,\n",
    "        'y_test':y_test,\n",
    "    }\n",
    "}"
   ]
  },
  {
   "cell_type": "markdown",
   "id": "903e8a3b",
   "metadata": {},
   "source": [
    "# Modelling"
   ]
  },
  {
   "cell_type": "code",
   "execution_count": 50,
   "id": "812b0eac",
   "metadata": {},
   "outputs": [],
   "source": [
    "def perform_model(models,X_train,y_train,kfold, scoring='accuracy'):\n",
    "    \"\"\"\n",
    "        Deskripsi Function:\n",
    "        - Fungsi ini digunakan untuk melakukan model cross-validation dengan data latih yang ada. Setiap model\n",
    "        akan divalidasi dengan ukuran skor (scoring) yang telah ditetapkan, semisal (akurasi, recall, etc).\n",
    "        \n",
    "        Function parameters:\n",
    "        - models: list of tuples dari model yang ingin dituning (LogisticRegression, SVM, etc)\n",
    "        - X_train: dataframe atau np.array dari atribut data latih yang sudah dipreprocessing\n",
    "        - y_train: dataframe atau np.array dari target data latih yang sudah dipreprocessing\n",
    "        - kfold: objek hasil instansiasi kelas KFold \n",
    "        - scoring: metode untuk memngukur performa model (accuracy, recall, precision, etc)\n",
    "        \n",
    "        Function returns:\n",
    "        - cv_results: List dari hasil cross validation setiap model yang sudah dituning\n",
    "        - model_names: List dari nama setiap model (string)\n",
    "        - print_msg: List berupa pesan untuk menampilkan model dengan hasil performanya pada data validasi\n",
    "    \"\"\"\n",
    "    cv_results = [] #menampung hasil crossvalidation setiap model\n",
    "    model_names = [] #menampung nama model\n",
    "    print_msg = [] #menampung pesan yang akan ditampilkan\n",
    "    \n",
    "    \n",
    "    for model_name, model in models:\n",
    "        #cross validation result\n",
    "        cv_result = cross_val_score(model,X_train,y_train, cv=kfold,scoring=scoring)\n",
    "\n",
    "        #append into list\n",
    "        cv_results.append(cv_result)\n",
    "        model_names.append(model_name)\n",
    "\n",
    "        #print result\n",
    "        msg_result = \"{}: mean {} = {}  std {} = {}\".format(model_name,scoring,cv_result.mean(),scoring,cv_result.std())\n",
    "        print_msg.append(msg_result)\n",
    "    \n",
    "    return cv_results,model_names,print_msg\n",
    "\n",
    "def tuning_hyperparameters_model(model, kfold, params_grid, X_train,y_train,scoring=\"accuracy\"):\n",
    "    \"\"\"\n",
    "        Function Description: Fungsi untuk melakukan tuning hyperparameter model\n",
    "    \"\"\"\n",
    "    # instansiasi objek\n",
    "    grid_params_model = GridSearchCV(\n",
    "        estimator= model,\n",
    "        param_grid=params_grid,\n",
    "        scoring=scoring,\n",
    "        cv = kfold\n",
    "    )\n",
    "    # result\n",
    "    grid_result = grid_params_model.fit(X_train,y_train)\n",
    "    return grid_result"
   ]
  },
  {
   "cell_type": "markdown",
   "id": "6cf9247a",
   "metadata": {},
   "source": [
    "## Cross Validation Model with Accuracy Score"
   ]
  },
  {
   "cell_type": "markdown",
   "id": "50335863",
   "metadata": {},
   "source": [
    "### Fungsi menampillkan output"
   ]
  },
  {
   "cell_type": "code",
   "execution_count": 51,
   "id": "bbf8e2bf",
   "metadata": {},
   "outputs": [],
   "source": [
    "def print_classification_report(y_train,y_test,y_pred_train,y_pred_test,model_name):\n",
    "    # print score\n",
    "    print(\"Training Accuracy score {}  = {}%\".format(model_name,(metrics.accuracy_score(y_train,y_pred_train))*100))\n",
    "    print(\"Training Recall score {}  = {}%\".format(model_name,(metrics.recall_score(y_train,y_pred_train))*100))\n",
    "    print(\"Testing Accuracy score {}  = {}%\".format(model_name,(metrics.accuracy_score(y_test,y_pred_test))*100))\n",
    "    print(\"Testing Recall score {}  = {}%\".format(model_name,(metrics.recall_score(y_test,y_pred_test))*100))\n",
    "    print(\"=\"*100)\n",
    "    print(\"Confusion Matrix of {} on Training\".format(model_name))\n",
    "    print(metrics.confusion_matrix(y_train,y_pred_train))\n",
    "    print(\"Confusion Matrix of {} on Testing\".format(model_name))\n",
    "    print(metrics.confusion_matrix(y_test,y_pred_test))\n",
    "    print(\"=\"*100)\n",
    "    # hasil klasifikasi\n",
    "    print(\"Detailed Classification Report of {} on Training\".format(model_name))\n",
    "    print(metrics.classification_report(y_train,y_pred_train))\n",
    "    print(\"Detailed Classification Report of {} on Testing\".format(model_name))\n",
    "    print(metrics.classification_report(y_test,y_pred_test))"
   ]
  },
  {
   "cell_type": "markdown",
   "id": "b70423ee",
   "metadata": {},
   "source": [
    "### Inisialisasi"
   ]
  },
  {
   "cell_type": "code",
   "execution_count": 52,
   "id": "e79533da",
   "metadata": {},
   "outputs": [],
   "source": [
    "# Inisialisasi fold dan scoring yang digunakan\n",
    "num_fold = 10\n",
    "scoring_accuracy ='accuracy'\n",
    "scoring_recall = 'recall'"
   ]
  },
  {
   "cell_type": "code",
   "execution_count": 53,
   "id": "a2a82660",
   "metadata": {},
   "outputs": [],
   "source": [
    "# buat list dari seluruh model yang digunakan\n",
    "classifier_models = []\n",
    "\n",
    "# append model\n",
    "classifier_models.append(('Support Vector Machine', SVC()))\n",
    "classifier_models.append(('Logistic Regression', LogisticRegression()))\n",
    "classifier_models.append(('K-Nearest Neighbor', KNeighborsClassifier()))\n",
    "classifier_models.append(('Decision Tree', DecisionTreeClassifier()))\n",
    "classifier_models.append(('Random Forest', RandomForestClassifier()))\n",
    "classifier_models.append(('Naive Bayes', GaussianNB()))\n",
    "\n",
    "#k-fold cross validation initialization object\n",
    "kfold = KFold(n_splits=num_fold, random_state=42, shuffle=True)"
   ]
  },
  {
   "cell_type": "markdown",
   "id": "e5fd002f",
   "metadata": {},
   "source": [
    "### Proses K-Fold Cross-Validation"
   ]
  },
  {
   "cell_type": "code",
   "execution_count": 54,
   "id": "f534f727",
   "metadata": {},
   "outputs": [],
   "source": [
    "cv_results_accuracy, model_names, print_msg_accuracy = perform_model(\n",
    "    models=classifier_models,\n",
    "    X_train=X_train_pca,\n",
    "    y_train=y_train,\n",
    "    kfold=kfold,\n",
    "    scoring=scoring_accuracy\n",
    ")"
   ]
  },
  {
   "cell_type": "code",
   "execution_count": 55,
   "id": "ced583df",
   "metadata": {},
   "outputs": [
    {
     "name": "stdout",
     "output_type": "stream",
     "text": [
      "Support Vector Machine: mean accuracy = 0.7514224751066856  std accuracy = 0.0783060918282201\n",
      "Logistic Regression: mean accuracy = 0.7379800853485065  std accuracy = 0.07450579165848653\n",
      "K-Nearest Neighbor: mean accuracy = 0.7595305832147938  std accuracy = 0.043455916070684136\n",
      "Decision Tree: mean accuracy = 0.7143669985775248  std accuracy = 0.06971303642837165\n",
      "Random Forest: mean accuracy = 0.7649359886201992  std accuracy = 0.08415972118006085\n",
      "Naive Bayes: mean accuracy = 0.727524893314367  std accuracy = 0.09068513092111975\n"
     ]
    }
   ],
   "source": [
    "# cetak hasil rata-rata akurasi setiap model\n",
    "for msg in print_msg_accuracy:\n",
    "    print(msg)"
   ]
  },
  {
   "cell_type": "code",
   "execution_count": 56,
   "id": "30695cfc",
   "metadata": {},
   "outputs": [
    {
     "data": {
      "image/png": "[encoded data removed]",
      "text/plain": [
       "<Figure size 576x288 with 1 Axes>"
      ]
     },
     "metadata": {
      "needs_background": "light"
     },
     "output_type": "display_data"
    }
   ],
   "source": [
    "fig = plt.figure(figsize=(10,8))\n",
    "fig.suptitle('Hasil perbandingan akurasi setiap model klasifikasi')\n",
    "ax = fig.add_subplot(111)\n",
    "\n",
    "plt.boxplot(cv_results_accuracy)\n",
    "ax.set_xticklabels(model_names, rotation=90)\n",
    "fig.set_size_inches(8,4)\n",
    "plt.show()"
   ]
  },
  {
   "cell_type": "markdown",
   "id": "fabe9d51",
   "metadata": {},
   "source": [
    "## SVM"
   ]
  },
  {
   "cell_type": "code",
   "execution_count": 57,
   "id": "0a1b3972",
   "metadata": {},
   "outputs": [],
   "source": [
    "# inisialisasi model\n",
    "svm_balanced = SVC()\n",
    "# fit model into training data\n",
    "svm_balanced.fit(X_train_pca,y_train)\n",
    "# get y prediction\n",
    "y_pred_train_svm_balanced = svm_balanced.predict(X_train_pca)\n",
    "y_pred_test_svm_balanced = svm_balanced.predict(X_test_pca)"
   ]
  },
  {
   "cell_type": "code",
   "execution_count": 58,
   "id": "b2239631",
   "metadata": {},
   "outputs": [
    {
     "name": "stdout",
     "output_type": "stream",
     "text": [
      "Training Accuracy score SVM  = 78.87700534759358%\n",
      "Training Recall score SVM  = 82.88770053475936%\n",
      "Testing Accuracy score SVM  = 75.75757575757575%\n",
      "Testing Recall score SVM  = 79.01234567901234%\n",
      "====================================================================================================\n",
      "Confusion Matrix of SVM on Training\n",
      "[[140  47]\n",
      " [ 32 155]]\n",
      "Confusion Matrix of SVM on Testing\n",
      "[[111  39]\n",
      " [ 17  64]]\n",
      "====================================================================================================\n",
      "Detailed Classification Report of SVM on Training\n",
      "              precision    recall  f1-score   support\n",
      "\n",
      "           0       0.81      0.75      0.78       187\n",
      "           1       0.77      0.83      0.80       187\n",
      "\n",
      "    accuracy                           0.79       374\n",
      "   macro avg       0.79      0.79      0.79       374\n",
      "weighted avg       0.79      0.79      0.79       374\n",
      "\n",
      "Detailed Classification Report of SVM on Testing\n",
      "              precision    recall  f1-score   support\n",
      "\n",
      "           0       0.87      0.74      0.80       150\n",
      "           1       0.62      0.79      0.70        81\n",
      "\n",
      "    accuracy                           0.76       231\n",
      "   macro avg       0.74      0.77      0.75       231\n",
      "weighted avg       0.78      0.76      0.76       231\n",
      "\n"
     ]
    }
   ],
   "source": [
    "print_classification_report(y_train,y_test,y_pred_train_svm_balanced,y_pred_test_svm_balanced,'SVM')"
   ]
  },
  {
   "cell_type": "markdown",
   "id": "e96413fb",
   "metadata": {},
   "source": [
    "### Tuning Hyperparameter SVM"
   ]
  },
  {
   "cell_type": "code",
   "execution_count": 59,
   "id": "5a501d81",
   "metadata": {},
   "outputs": [],
   "source": [
    "grid_results_svm_ = tuning_hyperparameters_model(\n",
    "    model=SVC(probability=True), \n",
    "    kfold=kfold, \n",
    "    params_grid={\n",
    "        'C':[0.01,0.1,1],\n",
    "        'kernel' : ['linear', 'poly', 'rbf', 'sigmoid',],\n",
    "        'gamma':[0.01,0.1,1],\n",
    "    },\n",
    "    X_train = X_train_pca,\n",
    "    y_train = y_train\n",
    ")"
   ]
  },
  {
   "cell_type": "code",
   "execution_count": 60,
   "id": "0e5a0c5d",
   "metadata": {},
   "outputs": [
    {
     "name": "stdout",
     "output_type": "stream",
     "text": [
      "Best SVM Hyperparameter: {'C': 1, 'gamma': 1, 'kernel': 'rbf'}\n",
      "Best SVM Recall Score: 0.7780938833570412\n"
     ]
    }
   ],
   "source": [
    "# Cetak hyperparameter yang memberikan hasil terbaik\n",
    "print('Best SVM Hyperparameter: {}'.format(grid_results_svm_.best_params_))\n",
    "print('Best SVM Recall Score: {}'.format(grid_results_svm_.best_score_))"
   ]
  },
  {
   "cell_type": "markdown",
   "id": "44156def",
   "metadata": {},
   "source": [
    "### Train Test Model dengan hyperparameter optimal "
   ]
  },
  {
   "cell_type": "code",
   "execution_count": 61,
   "id": "b03adcab",
   "metadata": {},
   "outputs": [
    {
     "name": "stdout",
     "output_type": "stream",
     "text": [
      "Training Accuracy score SVM  = 82.35294117647058%\n",
      "Training Recall score SVM  = 87.70053475935828%\n",
      "Testing Accuracy score SVM  = 77.05627705627705%\n",
      "Testing Recall score SVM  = 85.18518518518519%\n",
      "====================================================================================================\n",
      "Confusion Matrix of SVM on Training\n",
      "[[144  43]\n",
      " [ 23 164]]\n",
      "Confusion Matrix of SVM on Testing\n",
      "[[109  41]\n",
      " [ 12  69]]\n",
      "====================================================================================================\n",
      "Detailed Classification Report of SVM on Training\n",
      "              precision    recall  f1-score   support\n",
      "\n",
      "           0       0.86      0.77      0.81       187\n",
      "           1       0.79      0.88      0.83       187\n",
      "\n",
      "    accuracy                           0.82       374\n",
      "   macro avg       0.83      0.82      0.82       374\n",
      "weighted avg       0.83      0.82      0.82       374\n",
      "\n",
      "Detailed Classification Report of SVM on Testing\n",
      "              precision    recall  f1-score   support\n",
      "\n",
      "           0       0.90      0.73      0.80       150\n",
      "           1       0.63      0.85      0.72        81\n",
      "\n",
      "    accuracy                           0.77       231\n",
      "   macro avg       0.76      0.79      0.76       231\n",
      "weighted avg       0.80      0.77      0.78       231\n",
      "\n"
     ]
    }
   ],
   "source": [
    "svm_final_model_ = SVC(kernel=grid_results_svm_.best_params_['kernel'], gamma=grid_results_svm_.best_params_['gamma'],C=grid_results_svm_.best_params_['C'])\n",
    "\n",
    "# fit into training\n",
    "svm_final_model_.fit(X_train_pca,y_train)\n",
    "\n",
    "# predict\n",
    "y_pred_train_svm_final_ = svm_final_model_.predict(X_train_pca)\n",
    "y_pred_test_svm_final_ = svm_final_model_.predict(X_test_pca)\n",
    "\n",
    "print_classification_report(y_train=y_train,y_test=y_test,y_pred_train=y_pred_train_svm_final_,y_pred_test=y_pred_test_svm_final_,model_name='SVM')"
   ]
  },
  {
   "cell_type": "markdown",
   "id": "86cc988f",
   "metadata": {},
   "source": [
    "## KNN"
   ]
  },
  {
   "cell_type": "markdown",
   "id": "4461222c",
   "metadata": {},
   "source": [
    "### Tuning Hyperparameter KNN"
   ]
  },
  {
   "cell_type": "code",
   "execution_count": 62,
   "id": "2293bd79",
   "metadata": {},
   "outputs": [],
   "source": [
    "grid_results_knn_ = tuning_hyperparameters_model(\n",
    "    model=KNeighborsClassifier(), \n",
    "    kfold=kfold, \n",
    "    params_grid={\n",
    "        'n_neighbors':[i for i in range(1,25,2)],\n",
    "        'algorithm':['auto', 'ball_tree', 'kd_tree', 'brute'],\n",
    "        'p':[1,2,3],\n",
    "    },\n",
    "    X_train = X_train_pca,\n",
    "    y_train = y_train\n",
    ")"
   ]
  },
  {
   "cell_type": "code",
   "execution_count": 63,
   "id": "f121e6ef",
   "metadata": {},
   "outputs": [
    {
     "name": "stdout",
     "output_type": "stream",
     "text": [
      "Best SVM Hyperparameter: {'algorithm': 'auto', 'n_neighbors': 21, 'p': 3}\n",
      "Best SVM Recall Score: 0.7754623044096729\n"
     ]
    }
   ],
   "source": [
    "# Cetak hyperparameter yang memberikan hasil terbaik\n",
    "print('Best SVM Hyperparameter: {}'.format(grid_results_knn_.best_params_))\n",
    "print('Best SVM Recall Score: {}'.format(grid_results_knn_.best_score_))"
   ]
  },
  {
   "cell_type": "markdown",
   "id": "cce2932e",
   "metadata": {},
   "source": [
    "### Train Test Model dengan Hyperparameter Optimal"
   ]
  },
  {
   "cell_type": "code",
   "execution_count": 64,
   "id": "29084dbd",
   "metadata": {},
   "outputs": [
    {
     "name": "stdout",
     "output_type": "stream",
     "text": [
      "Training Accuracy score SVM  = 78.87700534759358%\n",
      "Training Recall score SVM  = 83.42245989304813%\n",
      "Testing Accuracy score SVM  = 77.05627705627705%\n",
      "Testing Recall score SVM  = 87.65432098765432%\n",
      "====================================================================================================\n",
      "Confusion Matrix of SVM on Training\n",
      "[[139  48]\n",
      " [ 31 156]]\n",
      "Confusion Matrix of SVM on Testing\n",
      "[[107  43]\n",
      " [ 10  71]]\n",
      "====================================================================================================\n",
      "Detailed Classification Report of SVM on Training\n",
      "              precision    recall  f1-score   support\n",
      "\n",
      "           0       0.82      0.74      0.78       187\n",
      "           1       0.76      0.83      0.80       187\n",
      "\n",
      "    accuracy                           0.79       374\n",
      "   macro avg       0.79      0.79      0.79       374\n",
      "weighted avg       0.79      0.79      0.79       374\n",
      "\n",
      "Detailed Classification Report of SVM on Testing\n",
      "              precision    recall  f1-score   support\n",
      "\n",
      "           0       0.91      0.71      0.80       150\n",
      "           1       0.62      0.88      0.73        81\n",
      "\n",
      "    accuracy                           0.77       231\n",
      "   macro avg       0.77      0.79      0.76       231\n",
      "weighted avg       0.81      0.77      0.78       231\n",
      "\n"
     ]
    }
   ],
   "source": [
    "knn_final_model = KNeighborsClassifier(\n",
    "    n_neighbors=grid_results_knn_.best_params_['n_neighbors'],\n",
    "    algorithm=grid_results_knn_.best_params_['algorithm'],\n",
    "    p=grid_results_knn_.best_params_['p'],\n",
    ")\n",
    "\n",
    "# fit into training\n",
    "knn_final_model.fit(X_train_pca,y_train)\n",
    "\n",
    "# predict\n",
    "y_pred_train_knn_final_ = knn_final_model.predict(X_train_pca)\n",
    "y_pred_test_knn_final_ = knn_final_model.predict(X_test_pca)\n",
    "\n",
    "print_classification_report(y_train=y_train,y_test=y_test,y_pred_train=y_pred_train_knn_final_,y_pred_test=y_pred_test_knn_final_,model_name='SVM')"
   ]
  },
  {
   "cell_type": "markdown",
   "id": "0ece909b",
   "metadata": {},
   "source": [
    "# Save Models"
   ]
  },
  {
   "cell_type": "code",
   "execution_count": 65,
   "id": "5b8c1623",
   "metadata": {},
   "outputs": [],
   "source": [
    "# sementara simpan model KNN yang sudah dilatih\n",
    "models['model_train']={\n",
    "    'model':knn_final_model,\n",
    "}\n",
    "pickle.dump(models,open('models/models_trained.pkl','wb'))"
   ]
  }
 ],
 "metadata": {
  "kernelspec": {
   "display_name": "diabetic_app",
   "language": "python",
   "name": "diabetic_app"
  },
  "language_info": {
   "codemirror_mode": {
    "name": "ipython",
    "version": 3
   },
   "file_extension": ".py",
   "mimetype": "text/x-python",
   "name": "python",
   "nbconvert_exporter": "python",
   "pygments_lexer": "ipython3",
   "version": "3.8.5"
  },
  "toc": {
   "base_numbering": 1,
   "nav_menu": {},
   "number_sections": true,
   "sideBar": true,
   "skip_h1_title": false,
   "title_cell": "Table of Contents",
   "title_sidebar": "Contents",
   "toc_cell": false,
   "toc_position": {
    "height": "calc(100% - 180px)",
    "left": "10px",
    "top": "150px",
    "width": "284.433px"
   },
   "toc_section_display": true,
   "toc_window_display": true
  }
 },
 "nbformat": 4,
 "nbformat_minor": 5
}
