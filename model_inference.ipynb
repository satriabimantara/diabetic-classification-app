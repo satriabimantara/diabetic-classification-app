{
 "cells": [
  {
   "cell_type": "markdown",
   "id": "3b0407d7",
   "metadata": {},
   "source": [
    "# Try to load models"
   ]
  },
  {
   "cell_type": "code",
   "execution_count": 1,
   "id": "b5ac264d",
   "metadata": {},
   "outputs": [],
   "source": [
    "import pickle\n",
    "from sklearn import metrics\n",
    "import pandas as pd\n",
    "import numpy as np"
   ]
  },
  {
   "cell_type": "code",
   "execution_count": 2,
   "id": "445ce33d",
   "metadata": {},
   "outputs": [],
   "source": [
    "models = pickle.load(open('models/models_trained.pkl', 'rb'))"
   ]
  },
  {
   "cell_type": "code",
   "execution_count": 3,
   "id": "f2ff5e56",
   "metadata": {},
   "outputs": [
    {
     "data": {
      "text/plain": [
       "dict_keys(['columns', 'feature_selection', 'imputer', 'standard_scaler', 'dimensionality_reduction', 'data', 'model_train'])"
      ]
     },
     "execution_count": 3,
     "metadata": {},
     "output_type": "execute_result"
    }
   ],
   "source": [
    "models.keys()"
   ]
  },
  {
   "cell_type": "code",
   "execution_count": 4,
   "id": "d705f9cd",
   "metadata": {},
   "outputs": [
    {
     "data": {
      "text/plain": [
       "{'method': 'ANOVA F-Score',\n",
       " 'scaler': SelectKBest(k=4),\n",
       " 'best_k': 4,\n",
       " 'best_features_': ['Pregnancies', 'Glucose', 'BMI', 'Age']}"
      ]
     },
     "execution_count": 4,
     "metadata": {},
     "output_type": "execute_result"
    }
   ],
   "source": [
    "models['feature_selection']"
   ]
  },
  {
   "cell_type": "code",
   "execution_count": 5,
   "id": "83bcbbd5",
   "metadata": {},
   "outputs": [
    {
     "data": {
      "text/plain": [
       "{'method': 'PCA', 'best_k': 3, 'scaler': PCA(n_components=3)}"
      ]
     },
     "execution_count": 5,
     "metadata": {},
     "output_type": "execute_result"
    }
   ],
   "source": [
    "models['dimensionality_reduction']"
   ]
  },
  {
   "cell_type": "code",
   "execution_count": 6,
   "id": "677d57b6",
   "metadata": {},
   "outputs": [],
   "source": [
    "X_test = models['data']['after_preprocessing']['X_test']\n",
    "y_test = models['data']['after_preprocessing']['y_test']"
   ]
  },
  {
   "cell_type": "code",
   "execution_count": 7,
   "id": "76af9d5b",
   "metadata": {},
   "outputs": [],
   "source": [
    "model = models['model_train']['model']\n",
    "y_pred = model.predict(X_test)"
   ]
  },
  {
   "cell_type": "code",
   "execution_count": 8,
   "id": "01aaffac",
   "metadata": {},
   "outputs": [
    {
     "name": "stdout",
     "output_type": "stream",
     "text": [
      "              precision    recall  f1-score   support\n",
      "\n",
      "           0       0.91      0.71      0.80       150\n",
      "           1       0.62      0.88      0.73        81\n",
      "\n",
      "    accuracy                           0.77       231\n",
      "   macro avg       0.77      0.79      0.76       231\n",
      "weighted avg       0.81      0.77      0.78       231\n",
      "\n"
     ]
    }
   ],
   "source": [
    "print(metrics.classification_report(y_test,y_pred))"
   ]
  },
  {
   "cell_type": "code",
   "execution_count": null,
   "id": "89ef80ec",
   "metadata": {},
   "outputs": [],
   "source": []
  },
  {
   "cell_type": "markdown",
   "id": "58030aa9",
   "metadata": {},
   "source": [
    "# Test model with data inferences"
   ]
  },
  {
   "cell_type": "code",
   "execution_count": 9,
   "id": "443de04a",
   "metadata": {},
   "outputs": [],
   "source": [
    "data_inference = pd.read_csv('dataset/diabetes.csv')"
   ]
  },
  {
   "cell_type": "code",
   "execution_count": 10,
   "id": "ec2e1a3f",
   "metadata": {},
   "outputs": [],
   "source": [
    "X,y = data_inference.drop('Outcome',axis=1), data_inference['Outcome']"
   ]
  },
  {
   "cell_type": "code",
   "execution_count": 19,
   "id": "a114f16e",
   "metadata": {},
   "outputs": [
    {
     "data": {
      "text/plain": [
       "(Pregnancies                   6.000\n",
       " Glucose                     148.000\n",
       " BloodPressure                72.000\n",
       " SkinThickness                35.000\n",
       " Insulin                       0.000\n",
       " BMI                          33.600\n",
       " DiabetesPedigreeFunction      0.627\n",
       " Age                          50.000\n",
       " Name: 0, dtype: float64,\n",
       " 1)"
      ]
     },
     "execution_count": 19,
     "metadata": {},
     "output_type": "execute_result"
    }
   ],
   "source": [
    "X.loc[0], y.loc[0]"
   ]
  },
  {
   "cell_type": "code",
   "execution_count": 11,
   "id": "234d8e48",
   "metadata": {},
   "outputs": [],
   "source": [
    "models['columns'] = dict(models['columns'])\n",
    "invalid_columns = models['columns']['invalid']\n",
    "numerical_columns = models['columns']['numerical']\n",
    "retained_columns = models['feature_selection']['best_features_']\n",
    "\n",
    "numerical_imputer = models['imputer']['numerical']\n",
    "scaler = models['standard_scaler']['scaler']\n",
    "pca_scaler = models['dimensionality_reduction']['scaler']"
   ]
  },
  {
   "cell_type": "code",
   "execution_count": 12,
   "id": "9eba4f63",
   "metadata": {},
   "outputs": [
    {
     "data": {
      "text/plain": [
       "(['Pregnancies', 'Glucose', 'BMI', 'Age'],\n",
       " ['Glucose', 'BloodPressure', 'SkinThickness', 'Insulin', 'BMI'])"
      ]
     },
     "execution_count": 12,
     "metadata": {},
     "output_type": "execute_result"
    }
   ],
   "source": [
    "retained_columns, invalid_columns"
   ]
  },
  {
   "cell_type": "code",
   "execution_count": 13,
   "id": "58bfa5f7",
   "metadata": {},
   "outputs": [],
   "source": [
    "def inputs(df_sample_input):\n",
    "    #feature selection\n",
    "    df_sample_input = df_sample_input.loc[:,retained_columns]\n",
    "    \n",
    "    # imputer for invalid and missing values\n",
    "    for invalid_col in retained_columns:\n",
    "        df_sample_input[invalid_col].replace({0:np.nan}, inplace=True)\n",
    "    df_sample_input[retained_columns] = numerical_imputer.transform(df_sample_input[retained_columns])\n",
    "    \n",
    "    #scaling the features\n",
    "    df_sample_input = scaler.transform(df_sample_input)\n",
    "    \n",
    "    #dimensionality reduction\n",
    "    X_inputs = pca_scaler.transform(df_sample_input)\n",
    "    \n",
    "    return X_inputs"
   ]
  },
  {
   "cell_type": "code",
   "execution_count": 14,
   "id": "8dd209e5",
   "metadata": {},
   "outputs": [],
   "source": [
    "X_input = inputs(data_inference)"
   ]
  },
  {
   "cell_type": "code",
   "execution_count": 15,
   "id": "1554ac18",
   "metadata": {},
   "outputs": [],
   "source": [
    "y_pred_knn = model.predict(X_input)"
   ]
  },
  {
   "cell_type": "code",
   "execution_count": 16,
   "id": "a263cb0a",
   "metadata": {},
   "outputs": [
    {
     "name": "stdout",
     "output_type": "stream",
     "text": [
      "              precision    recall  f1-score   support\n",
      "\n",
      "           0       0.90      0.72      0.80       500\n",
      "           1       0.62      0.85      0.71       268\n",
      "\n",
      "    accuracy                           0.76       768\n",
      "   macro avg       0.76      0.78      0.75       768\n",
      "weighted avg       0.80      0.76      0.77       768\n",
      "\n"
     ]
    }
   ],
   "source": [
    "print(metrics.classification_report(y.to_numpy(),y_pred_knn))"
   ]
  },
  {
   "cell_type": "code",
   "execution_count": null,
   "id": "12602f4d",
   "metadata": {},
   "outputs": [],
   "source": []
  }
 ],
 "metadata": {
  "kernelspec": {
   "display_name": "diabetic_app",
   "language": "python",
   "name": "diabetic_app"
  },
  "language_info": {
   "codemirror_mode": {
    "name": "ipython",
    "version": 3
   },
   "file_extension": ".py",
   "mimetype": "text/x-python",
   "name": "python",
   "nbconvert_exporter": "python",
   "pygments_lexer": "ipython3",
   "version": "3.8.5"
  },
  "toc": {
   "base_numbering": 1,
   "nav_menu": {},
   "number_sections": true,
   "sideBar": true,
   "skip_h1_title": false,
   "title_cell": "Table of Contents",
   "title_sidebar": "Contents",
   "toc_cell": false,
   "toc_position": {},
   "toc_section_display": true,
   "toc_window_display": true
  }
 },
 "nbformat": 4,
 "nbformat_minor": 5
}
